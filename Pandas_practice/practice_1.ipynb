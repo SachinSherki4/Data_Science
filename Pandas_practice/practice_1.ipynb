{
 "cells": [
  {
   "cell_type": "code",
   "execution_count": 1,
   "id": "ac602f62",
   "metadata": {},
   "outputs": [],
   "source": [
    "import numpy as np\n",
    "import pandas as pd\n",
    "import matplotlib.pyplot as plt \n",
    "import seaborn as sns "
   ]
  },
  {
   "cell_type": "code",
   "execution_count": 2,
   "id": "c4a63a7e",
   "metadata": {},
   "outputs": [
    {
     "name": "stdout",
     "output_type": "stream",
     "text": [
      "(250659, 17)\n"
     ]
    }
   ],
   "source": [
    "vehicle_data=pd.read_csv('../Data_Files/Electric_Vehicle_Population_Data.csv')\n",
    "print(vehicle_data.shape)"
   ]
  },
  {
   "cell_type": "code",
   "execution_count": 3,
   "id": "826708f5",
   "metadata": {},
   "outputs": [
    {
     "data": {
      "text/plain": [
       "Index(['VIN (1-10)', 'County', 'City', 'State', 'Postal Code', 'Model Year',\n",
       "       'Make', 'Model', 'Electric Vehicle Type',\n",
       "       'Clean Alternative Fuel Vehicle (CAFV) Eligibility', 'Electric Range',\n",
       "       'Base MSRP', 'Legislative District', 'DOL Vehicle ID',\n",
       "       'Vehicle Location', 'Electric Utility', '2020 Census Tract'],\n",
       "      dtype='object')"
      ]
     },
     "execution_count": 3,
     "metadata": {},
     "output_type": "execute_result"
    }
   ],
   "source": [
    "vehicle_data.columns"
   ]
  },
  {
   "cell_type": "code",
   "execution_count": 4,
   "id": "61d9b3b2",
   "metadata": {},
   "outputs": [],
   "source": [
    "num_col=vehicle_data.select_dtypes(['int64','float64'])\n",
    "cat_col=vehicle_data.select_dtypes(['object','category'])\n"
   ]
  },
  {
   "cell_type": "code",
   "execution_count": 5,
   "id": "135abcca",
   "metadata": {},
   "outputs": [
    {
     "data": {
      "text/plain": [
       "Index(['Postal Code', 'Model Year', 'Electric Range', 'Base MSRP',\n",
       "       'Legislative District', 'DOL Vehicle ID', '2020 Census Tract'],\n",
       "      dtype='object')"
      ]
     },
     "execution_count": 5,
     "metadata": {},
     "output_type": "execute_result"
    }
   ],
   "source": [
    "num_col.columns"
   ]
  },
  {
   "cell_type": "code",
   "execution_count": 6,
   "id": "231cc1b2",
   "metadata": {},
   "outputs": [
    {
     "data": {
      "text/plain": [
       "Index(['VIN (1-10)', 'County', 'City', 'State', 'Make', 'Model',\n",
       "       'Electric Vehicle Type',\n",
       "       'Clean Alternative Fuel Vehicle (CAFV) Eligibility', 'Vehicle Location',\n",
       "       'Electric Utility'],\n",
       "      dtype='object')"
      ]
     },
     "execution_count": 6,
     "metadata": {},
     "output_type": "execute_result"
    }
   ],
   "source": [
    "cat_col.columns"
   ]
  },
  {
   "cell_type": "code",
   "execution_count": null,
   "id": "e2431b4a",
   "metadata": {},
   "outputs": [
    {
     "ename": "TypeError",
     "evalue": "bar() missing 1 required positional argument: 'x'",
     "output_type": "error",
     "traceback": [
      "\u001b[31m---------------------------------------------------------------------------\u001b[39m",
      "\u001b[31mTypeError\u001b[39m                                 Traceback (most recent call last)",
      "\u001b[36mCell\u001b[39m\u001b[36m \u001b[39m\u001b[32mIn[8]\u001b[39m\u001b[32m, line 1\u001b[39m\n\u001b[32m----> \u001b[39m\u001b[32m1\u001b[39m \u001b[43mplt\u001b[49m\u001b[43m.\u001b[49m\u001b[43mbar\u001b[49m\u001b[43m(\u001b[49m\u001b[43mdata\u001b[49m\u001b[43m=\u001b[49m\u001b[43mvehicle_data\u001b[49m\u001b[43m[\u001b[49m\u001b[33;43m'\u001b[39;49m\u001b[33;43mModel Year\u001b[39;49m\u001b[33;43m'\u001b[39;49m\u001b[43m]\u001b[49m\u001b[43m.\u001b[49m\u001b[43munique\u001b[49m\u001b[43m(\u001b[49m\u001b[43m)\u001b[49m\u001b[43m \u001b[49m\u001b[43m,\u001b[49m\u001b[43mheight\u001b[49m\u001b[43m=\u001b[49m\u001b[43mvehicle_data\u001b[49m\u001b[43m[\u001b[49m\u001b[33;43m'\u001b[39;49m\u001b[33;43mModel Year\u001b[39;49m\u001b[33;43m'\u001b[39;49m\u001b[43m]\u001b[49m\u001b[43m.\u001b[49m\u001b[43mvalue_counts\u001b[49m\u001b[43m)\u001b[49m\n",
      "\u001b[31mTypeError\u001b[39m: bar() missing 1 required positional argument: 'x'"
     ]
    }
   ],
   "source": [
    "plt.bar(x=vehicle_data['Model Year'].unique() ,height=vehicle_data['Model Year'].value_counts)"
   ]
  },
  {
   "cell_type": "code",
   "execution_count": null,
   "id": "c151dcd0",
   "metadata": {},
   "outputs": [],
   "source": []
  }
 ],
 "metadata": {
  "kernelspec": {
   "display_name": "venv",
   "language": "python",
   "name": "python3"
  },
  "language_info": {
   "codemirror_mode": {
    "name": "ipython",
    "version": 3
   },
   "file_extension": ".py",
   "mimetype": "text/x-python",
   "name": "python",
   "nbconvert_exporter": "python",
   "pygments_lexer": "ipython3",
   "version": "3.11.5"
  }
 },
 "nbformat": 4,
 "nbformat_minor": 5
}
