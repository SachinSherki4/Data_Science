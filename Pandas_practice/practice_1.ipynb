{
 "cells": [
  {
   "cell_type": "code",
   "execution_count": 1,
   "id": "ac602f62",
   "metadata": {},
   "outputs": [],
   "source": [
    "import numpy as np\n",
    "import pandas as pd\n",
    "import matplotlib.pyplot as plt \n",
    "import seaborn as sns "
   ]
  },
  {
   "cell_type": "code",
   "execution_count": 2,
   "id": "c4a63a7e",
   "metadata": {},
   "outputs": [
    {
     "name": "stdout",
     "output_type": "stream",
     "text": [
      "(250659, 17)\n"
     ]
    }
   ],
   "source": [
    "vehicle_data=pd.read_csv('../Data_Files/Electric_Vehicle_Population_Data.csv')\n",
    "print(vehicle_data.shape)"
   ]
  },
  {
   "cell_type": "code",
   "execution_count": 3,
   "id": "826708f5",
   "metadata": {},
   "outputs": [
    {
     "data": {
      "text/plain": [
       "Index(['VIN (1-10)', 'County', 'City', 'State', 'Postal Code', 'Model Year',\n",
       "       'Make', 'Model', 'Electric Vehicle Type',\n",
       "       'Clean Alternative Fuel Vehicle (CAFV) Eligibility', 'Electric Range',\n",
       "       'Base MSRP', 'Legislative District', 'DOL Vehicle ID',\n",
       "       'Vehicle Location', 'Electric Utility', '2020 Census Tract'],\n",
       "      dtype='object')"
      ]
     },
     "execution_count": 3,
     "metadata": {},
     "output_type": "execute_result"
    }
   ],
   "source": [
    "vehicle_data.columns"
   ]
  },
  {
   "cell_type": "code",
   "execution_count": 13,
   "id": "f9f8aeba",
   "metadata": {},
   "outputs": [
    {
     "name": "stdout",
     "output_type": "stream",
     "text": [
      "<class 'pandas.core.frame.DataFrame'>\n",
      "RangeIndex: 250659 entries, 0 to 250658\n",
      "Data columns (total 17 columns):\n",
      " #   Column                                             Non-Null Count   Dtype  \n",
      "---  ------                                             --------------   -----  \n",
      " 0   VIN (1-10)                                         250659 non-null  object \n",
      " 1   County                                             250653 non-null  object \n",
      " 2   City                                               250653 non-null  object \n",
      " 3   State                                              250659 non-null  object \n",
      " 4   Postal Code                                        250653 non-null  float64\n",
      " 5   Model Year                                         250659 non-null  int64  \n",
      " 6   Make                                               250659 non-null  object \n",
      " 7   Model                                              250659 non-null  object \n",
      " 8   Electric Vehicle Type                              250659 non-null  object \n",
      " 9   Clean Alternative Fuel Vehicle (CAFV) Eligibility  250659 non-null  object \n",
      " 10  Electric Range                                     250638 non-null  float64\n",
      " 11  Base MSRP                                          250638 non-null  float64\n",
      " 12  Legislative District                               250076 non-null  float64\n",
      " 13  DOL Vehicle ID                                     250659 non-null  int64  \n",
      " 14  Vehicle Location                                   250645 non-null  object \n",
      " 15  Electric Utility                                   250653 non-null  object \n",
      " 16  2020 Census Tract                                  250653 non-null  float64\n",
      "dtypes: float64(5), int64(2), object(10)\n",
      "memory usage: 32.5+ MB\n"
     ]
    }
   ],
   "source": [
    "vehicle_data.info()"
   ]
  },
  {
   "cell_type": "code",
   "execution_count": 4,
   "id": "61d9b3b2",
   "metadata": {},
   "outputs": [],
   "source": [
    "num_col=vehicle_data.select_dtypes(['int64','float64'])\n",
    "cat_col=vehicle_data.select_dtypes(['object','category'])\n"
   ]
  },
  {
   "cell_type": "code",
   "execution_count": 5,
   "id": "135abcca",
   "metadata": {},
   "outputs": [
    {
     "data": {
      "text/plain": [
       "Index(['Postal Code', 'Model Year', 'Electric Range', 'Base MSRP',\n",
       "       'Legislative District', 'DOL Vehicle ID', '2020 Census Tract'],\n",
       "      dtype='object')"
      ]
     },
     "execution_count": 5,
     "metadata": {},
     "output_type": "execute_result"
    }
   ],
   "source": [
    "num_col.columns"
   ]
  },
  {
   "cell_type": "code",
   "execution_count": 6,
   "id": "231cc1b2",
   "metadata": {},
   "outputs": [
    {
     "data": {
      "text/plain": [
       "Index(['VIN (1-10)', 'County', 'City', 'State', 'Make', 'Model',\n",
       "       'Electric Vehicle Type',\n",
       "       'Clean Alternative Fuel Vehicle (CAFV) Eligibility', 'Vehicle Location',\n",
       "       'Electric Utility'],\n",
       "      dtype='object')"
      ]
     },
     "execution_count": 6,
     "metadata": {},
     "output_type": "execute_result"
    }
   ],
   "source": [
    "cat_col.columns"
   ]
  },
  {
   "cell_type": "code",
   "execution_count": 11,
   "id": "e2431b4a",
   "metadata": {},
   "outputs": [
    {
     "data": {
      "text/plain": [
       "<BarContainer object of 21 artists>"
      ]
     },
     "execution_count": 11,
     "metadata": {},
     "output_type": "execute_result"
    },
    {
     "data": {
      "image/png": "[encoded data removed]",
      "text/plain": [
       "<Figure size 640x480 with 1 Axes>"
      ]
     },
     "metadata": {},
     "output_type": "display_data"
    }
   ],
   "source": [
    "plt.bar(x=vehicle_data['Model Year'].unique() ,height=vehicle_data['Model Year'].value_counts())"
   ]
  },
  {
   "cell_type": "code",
   "execution_count": 12,
   "id": "aa815483",
   "metadata": {},
   "outputs": [
    {
     "data": {
      "text/plain": [
       "<matplotlib.collections.PathCollection at 0x1c8cce69150>"
      ]
     },
     "execution_count": 12,
     "metadata": {},
     "output_type": "execute_result"
    },
    {
     "data": {
      "image/png": "[encoded data removed]",
      "text/plain": [
       "<Figure size 640x480 with 1 Axes>"
      ]
     },
     "metadata": {},
     "output_type": "display_data"
    }
   ],
   "source": [
    "plt.scatter(x=vehicle_data['Model Year'].unique(),y=vehicle_data['Model Year'].value_counts())"
   ]
  },
  {
   "cell_type": "code",
   "execution_count": 14,
   "id": "c151dcd0",
   "metadata": {},
   "outputs": [
    {
     "data": {
      "text/plain": [
       "Postal Code               6\n",
       "Model Year                0\n",
       "Electric Range           21\n",
       "Base MSRP                21\n",
       "Legislative District    583\n",
       "DOL Vehicle ID            0\n",
       "2020 Census Tract         6\n",
       "dtype: int64"
      ]
     },
     "execution_count": 14,
     "metadata": {},
     "output_type": "execute_result"
    }
   ],
   "source": [
    "num_col.isna().sum()"
   ]
  },
  {
   "cell_type": "code",
   "execution_count": 20,
   "id": "783f554d",
   "metadata": {},
   "outputs": [
    {
     "name": "stderr",
     "output_type": "stream",
     "text": [
      "C:\\Users\\ssherki\\AppData\\Local\\Temp\\ipykernel_25324\\1045554344.py:1: FutureWarning: A value is trying to be set on a copy of a DataFrame or Series through chained assignment using an inplace method.\n",
      "The behavior will change in pandas 3.0. This inplace method will never work because the intermediate object on which we are setting values always behaves as a copy.\n",
      "\n",
      "For example, when doing 'df[col].method(value, inplace=True)', try using 'df.method({col: value}, inplace=True)' or df[col] = df[col].method(value) instead, to perform the operation inplace on the original object.\n",
      "\n",
      "\n",
      "  vehicle_data['Postal Code']=vehicle_data['Postal Code'].fillna(vehicle_data['Postal Code'].mean(),inplace=True)\n",
      "C:\\Users\\ssherki\\AppData\\Local\\Temp\\ipykernel_25324\\1045554344.py:1: FutureWarning: Downcasting object dtype arrays on .fillna, .ffill, .bfill is deprecated and will change in a future version. Call result.infer_objects(copy=False) instead. To opt-in to the future behavior, set `pd.set_option('future.no_silent_downcasting', True)`\n",
      "  vehicle_data['Postal Code']=vehicle_data['Postal Code'].fillna(vehicle_data['Postal Code'].mean(),inplace=True)\n"
     ]
    }
   ],
   "source": [
    "vehicle_data['Postal Code']=vehicle_data['Postal Code'].fillna(vehicle_data['Postal Code'].mean(),inplace=True)"
   ]
  },
  {
   "cell_type": "code",
   "execution_count": 21,
   "id": "d4c1d2d3",
   "metadata": {},
   "outputs": [
    {
     "data": {
      "text/plain": [
       "Postal Code               6\n",
       "Model Year                0\n",
       "Electric Range           21\n",
       "Base MSRP                21\n",
       "Legislative District    583\n",
       "DOL Vehicle ID            0\n",
       "2020 Census Tract         6\n",
       "dtype: int64"
      ]
     },
     "execution_count": 21,
     "metadata": {},
     "output_type": "execute_result"
    }
   ],
   "source": [
    "num_col.isna().sum()"
   ]
  },
  {
   "cell_type": "code",
   "execution_count": null,
   "id": "5950391e",
   "metadata": {},
   "outputs": [],
   "source": []
  }
 ],
 "metadata": {
  "kernelspec": {
   "display_name": "venv",
   "language": "python",
   "name": "python3"
  },
  "language_info": {
   "codemirror_mode": {
    "name": "ipython",
    "version": 3
   },
   "file_extension": ".py",
   "mimetype": "text/x-python",
   "name": "python",
   "nbconvert_exporter": "python",
   "pygments_lexer": "ipython3",
   "version": "3.11.5"
  }
 },
 "nbformat": 4,
 "nbformat_minor": 5
}
