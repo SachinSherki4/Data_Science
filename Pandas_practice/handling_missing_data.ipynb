{
 "cells": [
  {
   "cell_type": "code",
   "execution_count": 2,
   "id": "a5dd8801",
   "metadata": {},
   "outputs": [],
   "source": [
    "import numpy as np\n",
    "import pandas as pd\n",
    "import matplotlib.pyplot as plt\n",
    "import seaborn as sns"
   ]
  },
  {
   "cell_type": "code",
   "execution_count": null,
   "id": "7366a349",
   "metadata": {},
   "outputs": [
    {
     "data": {
      "text/html": [
       "<div>\n",
       "<style scoped>\n",
       "    .dataframe tbody tr th:only-of-type {\n",
       "        vertical-align: middle;\n",
       "    }\n",
       "\n",
       "    .dataframe tbody tr th {\n",
       "        vertical-align: top;\n",
       "    }\n",
       "\n",
       "    .dataframe thead th {\n",
       "        text-align: right;\n",
       "    }\n",
       "</style>\n",
       "<table border=\"1\" class=\"dataframe\">\n",
       "  <thead>\n",
       "    <tr style=\"text-align: right;\">\n",
       "      <th></th>\n",
       "      <th>ID</th>\n",
       "      <th>Age</th>\n",
       "      <th>Gender</th>\n",
       "      <th>State</th>\n",
       "      <th>City</th>\n",
       "      <th>Height_cm</th>\n",
       "      <th>Weight_kg</th>\n",
       "      <th>BMI</th>\n",
       "      <th>Blood_Pressure</th>\n",
       "      <th>Cholesterol_mgdl</th>\n",
       "      <th>Diabetes</th>\n",
       "      <th>Smoking_Habit</th>\n",
       "      <th>Exercise_Frequency</th>\n",
       "      <th>Diet_Type</th>\n",
       "      <th>Medical_Conditions</th>\n",
       "    </tr>\n",
       "  </thead>\n",
       "  <tbody>\n",
       "    <tr>\n",
       "      <th>0</th>\n",
       "      <td>NaN</td>\n",
       "      <td>56.0</td>\n",
       "      <td>Other</td>\n",
       "      <td>Delhi</td>\n",
       "      <td>Bangalore</td>\n",
       "      <td>168.4</td>\n",
       "      <td>62.5</td>\n",
       "      <td>23.2</td>\n",
       "      <td>139.0</td>\n",
       "      <td>218.0</td>\n",
       "      <td>No</td>\n",
       "      <td>Yes</td>\n",
       "      <td>Daily</td>\n",
       "      <td>Vegetarian</td>\n",
       "      <td>NaN</td>\n",
       "    </tr>\n",
       "    <tr>\n",
       "      <th>1</th>\n",
       "      <td>2.0</td>\n",
       "      <td>69.0</td>\n",
       "      <td>Male</td>\n",
       "      <td>Gujarat</td>\n",
       "      <td>Mumbai</td>\n",
       "      <td>158.5</td>\n",
       "      <td>68.2</td>\n",
       "      <td>30.0</td>\n",
       "      <td>166.0</td>\n",
       "      <td>254.0</td>\n",
       "      <td>Yes</td>\n",
       "      <td>Yes</td>\n",
       "      <td>Weekly</td>\n",
       "      <td>Eggetarian</td>\n",
       "      <td>NaN</td>\n",
       "    </tr>\n",
       "    <tr>\n",
       "      <th>2</th>\n",
       "      <td>3.0</td>\n",
       "      <td>46.0</td>\n",
       "      <td>NaN</td>\n",
       "      <td>Karnataka</td>\n",
       "      <td>Bangalore</td>\n",
       "      <td>155.9</td>\n",
       "      <td>51.6</td>\n",
       "      <td>24.0</td>\n",
       "      <td>149.0</td>\n",
       "      <td>299.0</td>\n",
       "      <td>NaN</td>\n",
       "      <td>Occasionally</td>\n",
       "      <td>NaN</td>\n",
       "      <td>Non-Vegetarian</td>\n",
       "      <td>Diabetes</td>\n",
       "    </tr>\n",
       "    <tr>\n",
       "      <th>3</th>\n",
       "      <td>4.0</td>\n",
       "      <td>32.0</td>\n",
       "      <td>Other</td>\n",
       "      <td>Maharashtra</td>\n",
       "      <td>Chennai</td>\n",
       "      <td>165.9</td>\n",
       "      <td>NaN</td>\n",
       "      <td>25.2</td>\n",
       "      <td>104.0</td>\n",
       "      <td>213.0</td>\n",
       "      <td>Yes</td>\n",
       "      <td>Occasionally</td>\n",
       "      <td>Rarely</td>\n",
       "      <td>Eggetarian</td>\n",
       "      <td>NaN</td>\n",
       "    </tr>\n",
       "    <tr>\n",
       "      <th>4</th>\n",
       "      <td>5.0</td>\n",
       "      <td>60.0</td>\n",
       "      <td>Male</td>\n",
       "      <td>Delhi</td>\n",
       "      <td>Mumbai</td>\n",
       "      <td>146.1</td>\n",
       "      <td>69.3</td>\n",
       "      <td>NaN</td>\n",
       "      <td>125.0</td>\n",
       "      <td>190.0</td>\n",
       "      <td>Yes</td>\n",
       "      <td>Yes</td>\n",
       "      <td>NaN</td>\n",
       "      <td>Vegan</td>\n",
       "      <td>NaN</td>\n",
       "    </tr>\n",
       "  </tbody>\n",
       "</table>\n",
       "</div>"
      ],
      "text/plain": [
       "    ID   Age Gender        State       City  Height_cm  Weight_kg   BMI  \\\n",
       "0  NaN  56.0  Other        Delhi  Bangalore      168.4       62.5  23.2   \n",
       "1  2.0  69.0   Male      Gujarat     Mumbai      158.5       68.2  30.0   \n",
       "2  3.0  46.0    NaN    Karnataka  Bangalore      155.9       51.6  24.0   \n",
       "3  4.0  32.0  Other  Maharashtra    Chennai      165.9        NaN  25.2   \n",
       "4  5.0  60.0   Male        Delhi     Mumbai      146.1       69.3   NaN   \n",
       "\n",
       "   Blood_Pressure  Cholesterol_mgdl Diabetes Smoking_Habit Exercise_Frequency  \\\n",
       "0           139.0             218.0       No           Yes              Daily   \n",
       "1           166.0             254.0      Yes           Yes             Weekly   \n",
       "2           149.0             299.0      NaN  Occasionally                NaN   \n",
       "3           104.0             213.0      Yes  Occasionally             Rarely   \n",
       "4           125.0             190.0      Yes           Yes                NaN   \n",
       "\n",
       "        Diet_Type Medical_Conditions  \n",
       "0      Vegetarian                NaN  \n",
       "1      Eggetarian                NaN  \n",
       "2  Non-Vegetarian           Diabetes  \n",
       "3      Eggetarian                NaN  \n",
       "4           Vegan                NaN  "
      ]
     },
     "execution_count": 41,
     "metadata": {},
     "output_type": "execute_result"
    }
   ],
   "source": [
    "# import data set \n",
    "health_data=pd.read_csv('../Data_Files/health_survey_india.csv')\n",
    "health_data.head() "
   ]
  },
  {
   "cell_type": "code",
   "execution_count": 4,
   "id": "6e286c57",
   "metadata": {},
   "outputs": [
    {
     "data": {
      "text/plain": [
       "(1000, 15)"
      ]
     },
     "execution_count": 4,
     "metadata": {},
     "output_type": "execute_result"
    }
   ],
   "source": [
    "health_data.shape"
   ]
  },
  {
   "cell_type": "code",
   "execution_count": 5,
   "id": "27b7ecd2",
   "metadata": {},
   "outputs": [
    {
     "data": {
      "text/plain": [
       "ID                    100\n",
       "Age                   100\n",
       "Gender                100\n",
       "State                 100\n",
       "City                  100\n",
       "Height_cm             100\n",
       "Weight_kg             100\n",
       "BMI                   100\n",
       "Blood_Pressure        100\n",
       "Cholesterol_mgdl      100\n",
       "Diabetes              100\n",
       "Smoking_Habit         100\n",
       "Exercise_Frequency    100\n",
       "Diet_Type             100\n",
       "Medical_Conditions    261\n",
       "dtype: int64"
      ]
     },
     "execution_count": 5,
     "metadata": {},
     "output_type": "execute_result"
    }
   ],
   "source": [
    "health_data.isna().sum()"
   ]
  },
  {
   "cell_type": "code",
   "execution_count": 6,
   "id": "6837349f",
   "metadata": {},
   "outputs": [
    {
     "data": {
      "text/plain": [
       "ID                    0.100\n",
       "Age                   0.100\n",
       "Gender                0.100\n",
       "State                 0.100\n",
       "City                  0.100\n",
       "Height_cm             0.100\n",
       "Weight_kg             0.100\n",
       "BMI                   0.100\n",
       "Blood_Pressure        0.100\n",
       "Cholesterol_mgdl      0.100\n",
       "Diabetes              0.100\n",
       "Smoking_Habit         0.100\n",
       "Exercise_Frequency    0.100\n",
       "Diet_Type             0.100\n",
       "Medical_Conditions    0.261\n",
       "dtype: float64"
      ]
     },
     "execution_count": 6,
     "metadata": {},
     "output_type": "execute_result"
    }
   ],
   "source": [
    "health_data.isna().mean()"
   ]
  },
  {
   "cell_type": "code",
   "execution_count": 7,
   "id": "393f922f",
   "metadata": {},
   "outputs": [
    {
     "data": {
      "text/plain": [
       "(1000, 15)"
      ]
     },
     "execution_count": 7,
     "metadata": {},
     "output_type": "execute_result"
    }
   ],
   "source": [
    "health_df=pd.read_csv('../Data_Files/health_survey_india_random_missing.csv')\n",
    "health_df.shape"
   ]
  },
  {
   "cell_type": "code",
   "execution_count": 8,
   "id": "fab11d01",
   "metadata": {},
   "outputs": [
    {
     "data": {
      "text/plain": [
       "ID                     85\n",
       "Age                   120\n",
       "Gender                 54\n",
       "State                  91\n",
       "City                   63\n",
       "Height_cm             149\n",
       "Weight_kg             120\n",
       "BMI                    63\n",
       "Blood_Pressure        113\n",
       "Cholesterol_mgdl       78\n",
       "Diabetes               85\n",
       "Smoking_Habit          96\n",
       "Exercise_Frequency     86\n",
       "Diet_Type             104\n",
       "Medical_Conditions    245\n",
       "dtype: int64"
      ]
     },
     "execution_count": 8,
     "metadata": {},
     "output_type": "execute_result"
    }
   ],
   "source": [
    "health_df.isna().sum()"
   ]
  },
  {
   "cell_type": "code",
   "execution_count": 38,
   "id": "c31d20d9",
   "metadata": {},
   "outputs": [
    {
     "data": {
      "text/html": [
       "<div>\n",
       "<style scoped>\n",
       "    .dataframe tbody tr th:only-of-type {\n",
       "        vertical-align: middle;\n",
       "    }\n",
       "\n",
       "    .dataframe tbody tr th {\n",
       "        vertical-align: top;\n",
       "    }\n",
       "\n",
       "    .dataframe thead th {\n",
       "        text-align: right;\n",
       "    }\n",
       "</style>\n",
       "<table border=\"1\" class=\"dataframe\">\n",
       "  <thead>\n",
       "    <tr style=\"text-align: right;\">\n",
       "      <th></th>\n",
       "      <th>ID</th>\n",
       "      <th>Age</th>\n",
       "      <th>Gender</th>\n",
       "      <th>State</th>\n",
       "      <th>City</th>\n",
       "      <th>Height_cm</th>\n",
       "      <th>Weight_kg</th>\n",
       "      <th>BMI</th>\n",
       "      <th>Blood_Pressure</th>\n",
       "      <th>Cholesterol_mgdl</th>\n",
       "      <th>Diabetes</th>\n",
       "      <th>Smoking_Habit</th>\n",
       "      <th>Exercise_Frequency</th>\n",
       "      <th>Diet_Type</th>\n",
       "      <th>Medical_Conditions</th>\n",
       "    </tr>\n",
       "  </thead>\n",
       "  <tbody>\n",
       "    <tr>\n",
       "      <th>0</th>\n",
       "      <td>1.0</td>\n",
       "      <td>56.0</td>\n",
       "      <td>Other</td>\n",
       "      <td>NaN</td>\n",
       "      <td>Bangalore</td>\n",
       "      <td>None</td>\n",
       "      <td>NaN</td>\n",
       "      <td>23.2</td>\n",
       "      <td>139.0</td>\n",
       "      <td>218.0</td>\n",
       "      <td>NaN</td>\n",
       "      <td>Yes</td>\n",
       "      <td>Daily</td>\n",
       "      <td>Vegetarian</td>\n",
       "      <td>NaN</td>\n",
       "    </tr>\n",
       "    <tr>\n",
       "      <th>1</th>\n",
       "      <td>2.0</td>\n",
       "      <td>NaN</td>\n",
       "      <td>Male</td>\n",
       "      <td>Gujarat</td>\n",
       "      <td>Mumbai</td>\n",
       "      <td>None</td>\n",
       "      <td>68.2</td>\n",
       "      <td>30.0</td>\n",
       "      <td>166.0</td>\n",
       "      <td>254.0</td>\n",
       "      <td>Yes</td>\n",
       "      <td>Yes</td>\n",
       "      <td>NaN</td>\n",
       "      <td>Eggetarian</td>\n",
       "      <td>NaN</td>\n",
       "    </tr>\n",
       "    <tr>\n",
       "      <th>2</th>\n",
       "      <td>3.0</td>\n",
       "      <td>46.0</td>\n",
       "      <td>Female</td>\n",
       "      <td>Karnataka</td>\n",
       "      <td>Bangalore</td>\n",
       "      <td>None</td>\n",
       "      <td>51.6</td>\n",
       "      <td>24.0</td>\n",
       "      <td>149.0</td>\n",
       "      <td>299.0</td>\n",
       "      <td>No</td>\n",
       "      <td>Occasionally</td>\n",
       "      <td>Never</td>\n",
       "      <td>NaN</td>\n",
       "      <td>Diabetes</td>\n",
       "    </tr>\n",
       "    <tr>\n",
       "      <th>3</th>\n",
       "      <td>4.0</td>\n",
       "      <td>32.0</td>\n",
       "      <td>Other</td>\n",
       "      <td>Maharashtra</td>\n",
       "      <td>Chennai</td>\n",
       "      <td>None</td>\n",
       "      <td>79.9</td>\n",
       "      <td>25.2</td>\n",
       "      <td>104.0</td>\n",
       "      <td>213.0</td>\n",
       "      <td>Yes</td>\n",
       "      <td>Occasionally</td>\n",
       "      <td>Rarely</td>\n",
       "      <td>Eggetarian</td>\n",
       "      <td>NaN</td>\n",
       "    </tr>\n",
       "    <tr>\n",
       "      <th>4</th>\n",
       "      <td>5.0</td>\n",
       "      <td>60.0</td>\n",
       "      <td>Male</td>\n",
       "      <td>Delhi</td>\n",
       "      <td>Mumbai</td>\n",
       "      <td>None</td>\n",
       "      <td>69.3</td>\n",
       "      <td>25.0</td>\n",
       "      <td>NaN</td>\n",
       "      <td>190.0</td>\n",
       "      <td>Yes</td>\n",
       "      <td>NaN</td>\n",
       "      <td>Rarely</td>\n",
       "      <td>Vegan</td>\n",
       "      <td>Asthma</td>\n",
       "    </tr>\n",
       "  </tbody>\n",
       "</table>\n",
       "</div>"
      ],
      "text/plain": [
       "    ID   Age  Gender        State       City Height_cm  Weight_kg   BMI  \\\n",
       "0  1.0  56.0   Other          NaN  Bangalore      None        NaN  23.2   \n",
       "1  2.0   NaN    Male      Gujarat     Mumbai      None       68.2  30.0   \n",
       "2  3.0  46.0  Female    Karnataka  Bangalore      None       51.6  24.0   \n",
       "3  4.0  32.0   Other  Maharashtra    Chennai      None       79.9  25.2   \n",
       "4  5.0  60.0    Male        Delhi     Mumbai      None       69.3  25.0   \n",
       "\n",
       "   Blood_Pressure  Cholesterol_mgdl Diabetes Smoking_Habit Exercise_Frequency  \\\n",
       "0           139.0             218.0      NaN           Yes              Daily   \n",
       "1           166.0             254.0      Yes           Yes                NaN   \n",
       "2           149.0             299.0       No  Occasionally              Never   \n",
       "3           104.0             213.0      Yes  Occasionally             Rarely   \n",
       "4             NaN             190.0      Yes           NaN             Rarely   \n",
       "\n",
       "    Diet_Type Medical_Conditions  \n",
       "0  Vegetarian                NaN  \n",
       "1  Eggetarian                NaN  \n",
       "2         NaN           Diabetes  \n",
       "3  Eggetarian                NaN  \n",
       "4       Vegan             Asthma  "
      ]
     },
     "execution_count": 38,
     "metadata": {},
     "output_type": "execute_result"
    }
   ],
   "source": [
    "health_df.head()"
   ]
  },
  {
   "cell_type": "code",
   "execution_count": 10,
   "id": "63fd85f0",
   "metadata": {},
   "outputs": [
    {
     "data": {
      "text/plain": [
       "Gender\n",
       "Male      322\n",
       "Other     314\n",
       "Female    310\n",
       "Name: count, dtype: int64"
      ]
     },
     "execution_count": 10,
     "metadata": {},
     "output_type": "execute_result"
    }
   ],
   "source": [
    "health_df['Gender'].value_counts()"
   ]
  },
  {
   "cell_type": "code",
   "execution_count": 11,
   "id": "b5aa1559",
   "metadata": {},
   "outputs": [
    {
     "data": {
      "text/plain": [
       "(array([ 88.,  80.,  77.,  86.,  87.,  98.,  72.,  87.,  85., 120.]),\n",
       " array([18. , 24.1, 30.2, 36.3, 42.4, 48.5, 54.6, 60.7, 66.8, 72.9, 79. ]),\n",
       " <BarContainer object of 10 artists>)"
      ]
     },
     "execution_count": 11,
     "metadata": {},
     "output_type": "execute_result"
    },
    {
     "data": {
      "image/png": "[encoded data removed]",
      "text/plain": [
       "<Figure size 640x480 with 1 Axes>"
      ]
     },
     "metadata": {},
     "output_type": "display_data"
    }
   ],
   "source": [
    "plt.hist(health_df['Age'])"
   ]
  },
  {
   "cell_type": "markdown",
   "id": "14692d91",
   "metadata": {},
   "source": [
    "### Basic Exploration - Find the number of rows, columns, and data types for each column"
   ]
  },
  {
   "cell_type": "code",
   "execution_count": 17,
   "id": "2163b8b7",
   "metadata": {},
   "outputs": [
    {
     "name": "stdout",
     "output_type": "stream",
     "text": [
      "Rows and Columns : (1000, 15) \n",
      "and columns : \n",
      "ID                    float64\n",
      "Age                   float64\n",
      "Gender                 object\n",
      "State                  object\n",
      "City                   object\n",
      "Height_cm             float64\n",
      "Weight_kg             float64\n",
      "BMI                   float64\n",
      "Blood_Pressure        float64\n",
      "Cholesterol_mgdl      float64\n",
      "Diabetes               object\n",
      "Smoking_Habit          object\n",
      "Exercise_Frequency     object\n",
      "Diet_Type              object\n",
      "Medical_Conditions     object\n",
      "dtype: object\n"
     ]
    }
   ],
   "source": [
    "row_col=health_df.shape\n",
    "col_dataType=health_df.dtypes\n",
    "print(f\"Rows and Columns : {row_col} \\nand columns : \\n{col_dataType}\")"
   ]
  },
  {
   "cell_type": "markdown",
   "id": "a5ee38d2",
   "metadata": {},
   "source": [
    "#### Summary Statistics — Get mean, median, min, max, and standard deviation for all numerical columns."
   ]
  },
  {
   "cell_type": "code",
   "execution_count": 19,
   "id": "e08cb4e3",
   "metadata": {},
   "outputs": [
    {
     "data": {
      "text/html": [
       "<div>\n",
       "<style scoped>\n",
       "    .dataframe tbody tr th:only-of-type {\n",
       "        vertical-align: middle;\n",
       "    }\n",
       "\n",
       "    .dataframe tbody tr th {\n",
       "        vertical-align: top;\n",
       "    }\n",
       "\n",
       "    .dataframe thead th {\n",
       "        text-align: right;\n",
       "    }\n",
       "</style>\n",
       "<table border=\"1\" class=\"dataframe\">\n",
       "  <thead>\n",
       "    <tr style=\"text-align: right;\">\n",
       "      <th></th>\n",
       "      <th>ID</th>\n",
       "      <th>Age</th>\n",
       "      <th>Height_cm</th>\n",
       "      <th>Weight_kg</th>\n",
       "      <th>BMI</th>\n",
       "      <th>Blood_Pressure</th>\n",
       "      <th>Cholesterol_mgdl</th>\n",
       "    </tr>\n",
       "  </thead>\n",
       "  <tbody>\n",
       "    <tr>\n",
       "      <th>count</th>\n",
       "      <td>915.000000</td>\n",
       "      <td>880.000000</td>\n",
       "      <td>851.000000</td>\n",
       "      <td>880.000000</td>\n",
       "      <td>937.000000</td>\n",
       "      <td>887.000000</td>\n",
       "      <td>922.000000</td>\n",
       "    </tr>\n",
       "    <tr>\n",
       "      <th>mean</th>\n",
       "      <td>498.481967</td>\n",
       "      <td>49.701136</td>\n",
       "      <td>164.919741</td>\n",
       "      <td>64.516591</td>\n",
       "      <td>23.974600</td>\n",
       "      <td>134.797069</td>\n",
       "      <td>222.996746</td>\n",
       "    </tr>\n",
       "    <tr>\n",
       "      <th>std</th>\n",
       "      <td>288.266293</td>\n",
       "      <td>18.063294</td>\n",
       "      <td>9.941203</td>\n",
       "      <td>14.878929</td>\n",
       "      <td>3.901273</td>\n",
       "      <td>26.359288</td>\n",
       "      <td>42.458832</td>\n",
       "    </tr>\n",
       "    <tr>\n",
       "      <th>min</th>\n",
       "      <td>1.000000</td>\n",
       "      <td>18.000000</td>\n",
       "      <td>130.300000</td>\n",
       "      <td>15.100000</td>\n",
       "      <td>11.600000</td>\n",
       "      <td>90.000000</td>\n",
       "      <td>150.000000</td>\n",
       "    </tr>\n",
       "    <tr>\n",
       "      <th>25%</th>\n",
       "      <td>251.500000</td>\n",
       "      <td>34.000000</td>\n",
       "      <td>158.000000</td>\n",
       "      <td>54.775000</td>\n",
       "      <td>21.400000</td>\n",
       "      <td>112.000000</td>\n",
       "      <td>186.250000</td>\n",
       "    </tr>\n",
       "    <tr>\n",
       "      <th>50%</th>\n",
       "      <td>491.000000</td>\n",
       "      <td>50.000000</td>\n",
       "      <td>165.300000</td>\n",
       "      <td>64.150000</td>\n",
       "      <td>23.700000</td>\n",
       "      <td>135.000000</td>\n",
       "      <td>222.000000</td>\n",
       "    </tr>\n",
       "    <tr>\n",
       "      <th>75%</th>\n",
       "      <td>749.500000</td>\n",
       "      <td>66.000000</td>\n",
       "      <td>172.000000</td>\n",
       "      <td>74.800000</td>\n",
       "      <td>26.600000</td>\n",
       "      <td>159.000000</td>\n",
       "      <td>259.000000</td>\n",
       "    </tr>\n",
       "    <tr>\n",
       "      <th>max</th>\n",
       "      <td>1000.000000</td>\n",
       "      <td>79.000000</td>\n",
       "      <td>195.600000</td>\n",
       "      <td>105.300000</td>\n",
       "      <td>35.100000</td>\n",
       "      <td>179.000000</td>\n",
       "      <td>299.000000</td>\n",
       "    </tr>\n",
       "  </tbody>\n",
       "</table>\n",
       "</div>"
      ],
      "text/plain": [
       "                ID         Age   Height_cm   Weight_kg         BMI  \\\n",
       "count   915.000000  880.000000  851.000000  880.000000  937.000000   \n",
       "mean    498.481967   49.701136  164.919741   64.516591   23.974600   \n",
       "std     288.266293   18.063294    9.941203   14.878929    3.901273   \n",
       "min       1.000000   18.000000  130.300000   15.100000   11.600000   \n",
       "25%     251.500000   34.000000  158.000000   54.775000   21.400000   \n",
       "50%     491.000000   50.000000  165.300000   64.150000   23.700000   \n",
       "75%     749.500000   66.000000  172.000000   74.800000   26.600000   \n",
       "max    1000.000000   79.000000  195.600000  105.300000   35.100000   \n",
       "\n",
       "       Blood_Pressure  Cholesterol_mgdl  \n",
       "count      887.000000        922.000000  \n",
       "mean       134.797069        222.996746  \n",
       "std         26.359288         42.458832  \n",
       "min         90.000000        150.000000  \n",
       "25%        112.000000        186.250000  \n",
       "50%        135.000000        222.000000  \n",
       "75%        159.000000        259.000000  \n",
       "max        179.000000        299.000000  "
      ]
     },
     "execution_count": 19,
     "metadata": {},
     "output_type": "execute_result"
    }
   ],
   "source": [
    "mean = health_df.describe()\n",
    "mean"
   ]
  },
  {
   "cell_type": "code",
   "execution_count": 25,
   "id": "19148760",
   "metadata": {},
   "outputs": [
    {
     "data": {
      "text/plain": [
       "<bound method DataFrame.median of          ID   Age  Gender        State       City  Height_cm  Weight_kg   BMI  \\\n",
       "0       1.0  56.0   Other          NaN  Bangalore        NaN        NaN  23.2   \n",
       "1       2.0   NaN    Male      Gujarat     Mumbai      158.5       68.2  30.0   \n",
       "2       3.0  46.0  Female    Karnataka  Bangalore      155.9       51.6  24.0   \n",
       "3       4.0  32.0   Other  Maharashtra    Chennai      165.9       79.9  25.2   \n",
       "4       5.0  60.0    Male        Delhi     Mumbai      146.1       69.3  25.0   \n",
       "..      ...   ...     ...          ...        ...        ...        ...   ...   \n",
       "995   996.0  18.0   Other      Gujarat     Mumbai      167.6       81.4  20.7   \n",
       "996   997.0  35.0   Other  West Bengal      Delhi      168.3       93.6  26.3   \n",
       "997     NaN   NaN  Female  West Bengal  Bangalore      173.0        NaN  22.5   \n",
       "998   999.0  64.0   Other          NaN    Kolkata      169.3        NaN  25.6   \n",
       "999  1000.0  66.0    Male  West Bengal      Delhi      161.6       65.4  21.4   \n",
       "\n",
       "     Blood_Pressure  Cholesterol_mgdl Diabetes Smoking_Habit  \\\n",
       "0             139.0             218.0      NaN           Yes   \n",
       "1             166.0             254.0      Yes           Yes   \n",
       "2             149.0             299.0       No  Occasionally   \n",
       "3             104.0             213.0      Yes  Occasionally   \n",
       "4               NaN             190.0      Yes           NaN   \n",
       "..              ...               ...      ...           ...   \n",
       "995           174.0             217.0      NaN            No   \n",
       "996            98.0               NaN      Yes            No   \n",
       "997           149.0             274.0       No  Occasionally   \n",
       "998           104.0             229.0      Yes            No   \n",
       "999             NaN             208.0       No           NaN   \n",
       "\n",
       "    Exercise_Frequency       Diet_Type Medical_Conditions  \n",
       "0                Daily      Vegetarian                NaN  \n",
       "1                  NaN      Eggetarian                NaN  \n",
       "2                Never             NaN           Diabetes  \n",
       "3               Rarely      Eggetarian                NaN  \n",
       "4               Rarely           Vegan             Asthma  \n",
       "..                 ...             ...                ...  \n",
       "995             Weekly           Vegan                NaN  \n",
       "996              Never  Non-Vegetarian            Obesity  \n",
       "997                NaN  Non-Vegetarian             Asthma  \n",
       "998             Rarely      Vegetarian           Diabetes  \n",
       "999             Rarely      Vegetarian       Hypertension  \n",
       "\n",
       "[1000 rows x 15 columns]>"
      ]
     },
     "execution_count": 25,
     "metadata": {},
     "output_type": "execute_result"
    }
   ],
   "source": [
    "median= health_df.median\n",
    "median"
   ]
  },
  {
   "cell_type": "markdown",
   "id": "5a47ea79",
   "metadata": {},
   "source": [
    "# Data Cleaning Exercises"
   ]
  },
  {
   "cell_type": "markdown",
   "id": "c73ac632",
   "metadata": {},
   "source": [
    "### 1. Missing Data Analysis — Find percentage of missing values per column and decide handling strategies."
   ]
  },
  {
   "cell_type": "code",
   "execution_count": 28,
   "id": "2d1af306",
   "metadata": {},
   "outputs": [
    {
     "data": {
      "text/plain": [
       "ID                     85\n",
       "Age                   120\n",
       "Gender                 54\n",
       "State                  91\n",
       "City                   63\n",
       "Height_cm             149\n",
       "Weight_kg             120\n",
       "BMI                    63\n",
       "Blood_Pressure        113\n",
       "Cholesterol_mgdl       78\n",
       "Diabetes               85\n",
       "Smoking_Habit          96\n",
       "Exercise_Frequency     86\n",
       "Diet_Type             104\n",
       "Medical_Conditions    245\n",
       "dtype: int64"
      ]
     },
     "execution_count": 28,
     "metadata": {},
     "output_type": "execute_result"
    }
   ],
   "source": [
    "missing_value_per= health_df.isna().sum()\n",
    "missing_value_per"
   ]
  },
  {
   "cell_type": "code",
   "execution_count": 30,
   "id": "bf01227f",
   "metadata": {},
   "outputs": [
    {
     "data": {
      "text/plain": [
       "ID                     8.5\n",
       "Age                   12.0\n",
       "Gender                 5.4\n",
       "State                  9.1\n",
       "City                   6.3\n",
       "Height_cm             14.9\n",
       "Weight_kg             12.0\n",
       "BMI                    6.3\n",
       "Blood_Pressure        11.3\n",
       "Cholesterol_mgdl       7.8\n",
       "Diabetes               8.5\n",
       "Smoking_Habit          9.6\n",
       "Exercise_Frequency     8.6\n",
       "Diet_Type             10.4\n",
       "Medical_Conditions    24.5\n",
       "dtype: float64"
      ]
     },
     "execution_count": 30,
     "metadata": {},
     "output_type": "execute_result"
    }
   ],
   "source": [
    "missing_value_per= health_df.isna().mean()*100\n",
    "missing_value_per"
   ]
  },
  {
   "cell_type": "code",
   "execution_count": 34,
   "id": "f46605c6",
   "metadata": {},
   "outputs": [
    {
     "data": {
      "text/plain": [
       "np.int64(149)"
      ]
     },
     "execution_count": 34,
     "metadata": {},
     "output_type": "execute_result"
    }
   ],
   "source": [
    "health_df['Height_cm'].isna().sum()"
   ]
  },
  {
   "cell_type": "code",
   "execution_count": null,
   "id": "bdf92411",
   "metadata": {},
   "outputs": [
    {
     "name": "stderr",
     "output_type": "stream",
     "text": [
      "C:\\Users\\ssherki\\AppData\\Local\\Temp\\ipykernel_23804\\3718809299.py:2: FutureWarning: A value is trying to be set on a copy of a DataFrame or Series through chained assignment using an inplace method.\n",
      "The behavior will change in pandas 3.0. This inplace method will never work because the intermediate object on which we are setting values always behaves as a copy.\n",
      "\n",
      "For example, when doing 'df[col].method(value, inplace=True)', try using 'df.method({col: value}, inplace=True)' or df[col] = df[col].method(value) instead, to perform the operation inplace on the original object.\n",
      "\n",
      "\n",
      "  health_df['Height_cm']=health_df['Height_cm'].fillna(height_mean, inplace=True)\n",
      "C:\\Users\\ssherki\\AppData\\Local\\Temp\\ipykernel_23804\\3718809299.py:2: FutureWarning: Downcasting object dtype arrays on .fillna, .ffill, .bfill is deprecated and will change in a future version. Call result.infer_objects(copy=False) instead. To opt-in to the future behavior, set `pd.set_option('future.no_silent_downcasting', True)`\n",
      "  health_df['Height_cm']=health_df['Height_cm'].fillna(height_mean, inplace=True)\n"
     ]
    },
    {
     "data": {
      "text/plain": [
       "np.int64(1000)"
      ]
     },
     "execution_count": 36,
     "metadata": {},
     "output_type": "execute_result"
    }
   ],
   "source": [
    "height_mean=health_df['Height_cm'].mean()\n",
    "health_df['Height_cm']=health_df['Height_cm'].fillna(height_mean)\n",
    "health_df['Height_cm'].isna().sum()"
   ]
  },
  {
   "cell_type": "code",
   "execution_count": 37,
   "id": "87f80801",
   "metadata": {},
   "outputs": [
    {
     "data": {
      "text/plain": [
       "ID                      85\n",
       "Age                    120\n",
       "Gender                  54\n",
       "State                   91\n",
       "City                    63\n",
       "Height_cm             1000\n",
       "Weight_kg              120\n",
       "BMI                     63\n",
       "Blood_Pressure         113\n",
       "Cholesterol_mgdl        78\n",
       "Diabetes                85\n",
       "Smoking_Habit           96\n",
       "Exercise_Frequency      86\n",
       "Diet_Type              104\n",
       "Medical_Conditions     245\n",
       "dtype: int64"
      ]
     },
     "execution_count": 37,
     "metadata": {},
     "output_type": "execute_result"
    }
   ],
   "source": [
    "missing_value_per= health_df.isna().sum()\n",
    "missing_value_per"
   ]
  },
  {
   "cell_type": "markdown",
   "id": "593137b7",
   "metadata": {},
   "source": [
    "### 2. Duplicate Check — Identify and remove duplicate rows based on the ID or combination of key columns."
   ]
  },
  {
   "cell_type": "code",
   "execution_count": 32,
   "id": "78469c4d",
   "metadata": {},
   "outputs": [
    {
     "data": {
      "text/plain": [
       "np.int64(0)"
      ]
     },
     "execution_count": 32,
     "metadata": {},
     "output_type": "execute_result"
    }
   ],
   "source": [
    "health_df.duplicated().sum()"
   ]
  },
  {
   "cell_type": "markdown",
   "id": "4f247b17",
   "metadata": {},
   "source": [
    "### 3. Data Type Conversion — Convert ID to integer, ensure BMI is float, categorical columns to category type."
   ]
  },
  {
   "cell_type": "code",
   "execution_count": null,
   "id": "536e3c45",
   "metadata": {},
   "outputs": [],
   "source": []
  }
 ],
 "metadata": {
  "kernelspec": {
   "display_name": "venv",
   "language": "python",
   "name": "python3"
  },
  "language_info": {
   "codemirror_mode": {
    "name": "ipython",
    "version": 3
   },
   "file_extension": ".py",
   "mimetype": "text/x-python",
   "name": "python",
   "nbconvert_exporter": "python",
   "pygments_lexer": "ipython3",
   "version": "3.11.5"
  }
 },
 "nbformat": 4,
 "nbformat_minor": 5
}
