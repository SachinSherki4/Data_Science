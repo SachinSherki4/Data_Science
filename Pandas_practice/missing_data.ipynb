{
 "cells": [
  {
   "cell_type": "code",
   "execution_count": 1,
   "id": "92052b9c",
   "metadata": {},
   "outputs": [],
   "source": [
    "import pandas as pd \n",
    "import numpy as np\n",
    "import matplotlib.pyplot as plt\n",
    "import seaborn as sns"
   ]
  },
  {
   "cell_type": "markdown",
   "id": "d94dc4be",
   "metadata": {},
   "source": [
    "### Handling Missing Data\n",
    "1. pd.isna().sum() -> List total missing data, \n",
    "2. pd.isnull()\n",
    "3. pd.notna(), \n",
    "4. pd.notnull() → Non-missing entries\n",
    "5. pd.dropna()\n",
    "6. pd.fillna()"
   ]
  },
  {
   "cell_type": "markdown",
   "id": "fa236135",
   "metadata": {},
   "source": []
  },
  {
   "cell_type": "code",
   "execution_count": 2,
   "id": "bac751f0",
   "metadata": {},
   "outputs": [
    {
     "data": {
      "text/plain": [
       "(1460, 81)"
      ]
     },
     "execution_count": 2,
     "metadata": {},
     "output_type": "execute_result"
    }
   ],
   "source": [
    "# reading data file and verifying whether file has any missing data or not\n",
    "housing_df=pd.read_csv('../Data_Files/housing_data.csv')\n",
    "housing_df.shape"
   ]
  },
  {
   "cell_type": "code",
   "execution_count": 6,
   "id": "69dd1545",
   "metadata": {},
   "outputs": [
    {
     "data": {
      "text/plain": [
       "Alley            1369\n",
       "MasVnrType        872\n",
       "GarageYrBlt        81\n",
       "Electrical          1\n",
       "Unnamed: 0          0\n",
       "                 ... \n",
       "MoSold              0\n",
       "YrSold              0\n",
       "SaleType            0\n",
       "SaleCondition       0\n",
       "SalePrice           0\n",
       "Length: 81, dtype: int64"
      ]
     },
     "execution_count": 6,
     "metadata": {},
     "output_type": "execute_result"
    }
   ],
   "source": [
    "housing_df.isna().sum().sort_values(ascending=False)"
   ]
  },
  {
   "cell_type": "code",
   "execution_count": 8,
   "id": "17902861",
   "metadata": {},
   "outputs": [
    {
     "data": {
      "text/plain": [
       "Index(['Unnamed: 0', 'LotFrontage', 'LotArea', 'OverallQual', 'OverallCond',\n",
       "       'YearBuilt', 'YearRemodAdd', 'MasVnrArea', 'BsmtFinSF1', 'BsmtFinSF2',\n",
       "       'BsmtUnfSF', 'TotalBsmtSF', '1stFlrSF', '2ndFlrSF', 'LowQualFinSF',\n",
       "       'GrLivArea', 'BsmtFullBath', 'BsmtHalfBath', 'FullBath', 'HalfBath',\n",
       "       'BedroomAbvGr', 'KitchenAbvGr', 'TotRmsAbvGrd', 'Fireplaces',\n",
       "       'GarageYrBlt', 'GarageCars', 'GarageArea', 'WoodDeckSF', 'OpenPorchSF',\n",
       "       'EnclosedPorch', '3SsnPorch', 'ScreenPorch', 'PoolArea', 'MiscVal',\n",
       "       'YrSold', 'SalePrice'],\n",
       "      dtype='object')"
      ]
     },
     "execution_count": 8,
     "metadata": {},
     "output_type": "execute_result"
    }
   ],
   "source": [
    "# check the numerical and categorical col in datset\n",
    "num_col= housing_df.select_dtypes(['int64','float64'])\n",
    "cat_col=housing_df.select_dtypes(['object','category'])\n",
    "num_col.columns"
   ]
  },
  {
   "cell_type": "code",
   "execution_count": 9,
   "id": "dc12de24",
   "metadata": {},
   "outputs": [
    {
     "data": {
      "text/plain": [
       "Index(['MSSubClass', 'MSZoning', 'Street', 'Alley', 'LotShape', 'LandContour',\n",
       "       'Utilities', 'LotConfig', 'LandSlope', 'Neighborhood', 'Condition1',\n",
       "       'Condition2', 'BldgType', 'HouseStyle', 'RoofStyle', 'RoofMatl',\n",
       "       'Exterior1st', 'Exterior2nd', 'MasVnrType', 'ExterQual', 'ExterCond',\n",
       "       'Foundation', 'BsmtQual', 'BsmtCond', 'BsmtExposure', 'BsmtFinType1',\n",
       "       'BsmtFinType2', 'Heating', 'HeatingQC', 'CentralAir', 'Electrical',\n",
       "       'KitchenQual', 'Functional', 'FireplaceQu', 'GarageType',\n",
       "       'GarageFinish', 'GarageQual', 'GarageCond', 'PavedDrive', 'PoolQC',\n",
       "       'Fence', 'MiscFeature', 'MoSold', 'SaleType', 'SaleCondition'],\n",
       "      dtype='object')"
      ]
     },
     "execution_count": 9,
     "metadata": {},
     "output_type": "execute_result"
    }
   ],
   "source": [
    "cat_col.columns"
   ]
  },
  {
   "cell_type": "code",
   "execution_count": 12,
   "id": "439c7646",
   "metadata": {},
   "outputs": [
    {
     "data": {
      "text/plain": [
       "GarageYrBlt      81\n",
       "Unnamed: 0        0\n",
       "LotArea           0\n",
       "LotFrontage       0\n",
       "OverallQual       0\n",
       "OverallCond       0\n",
       "YearRemodAdd      0\n",
       "YearBuilt         0\n",
       "BsmtFinSF1        0\n",
       "BsmtFinSF2        0\n",
       "BsmtUnfSF         0\n",
       "MasVnrArea        0\n",
       "1stFlrSF          0\n",
       "2ndFlrSF          0\n",
       "LowQualFinSF      0\n",
       "GrLivArea         0\n",
       "BsmtFullBath      0\n",
       "BsmtHalfBath      0\n",
       "FullBath          0\n",
       "TotalBsmtSF       0\n",
       "HalfBath          0\n",
       "BedroomAbvGr      0\n",
       "TotRmsAbvGrd      0\n",
       "KitchenAbvGr      0\n",
       "Fireplaces        0\n",
       "GarageCars        0\n",
       "GarageArea        0\n",
       "WoodDeckSF        0\n",
       "OpenPorchSF       0\n",
       "EnclosedPorch     0\n",
       "3SsnPorch         0\n",
       "ScreenPorch       0\n",
       "PoolArea          0\n",
       "MiscVal           0\n",
       "YrSold            0\n",
       "SalePrice         0\n",
       "dtype: int64"
      ]
     },
     "execution_count": 12,
     "metadata": {},
     "output_type": "execute_result"
    }
   ],
   "source": [
    "num_col.isna().sum().sort_values(ascending=False)"
   ]
  },
  {
   "cell_type": "code",
   "execution_count": 13,
   "id": "ee0017e2",
   "metadata": {},
   "outputs": [
    {
     "data": {
      "text/plain": [
       "0    2003.0\n",
       "1    1976.0\n",
       "2    2001.0\n",
       "3    1998.0\n",
       "4    2000.0\n",
       "Name: GarageYrBlt, dtype: float64"
      ]
     },
     "execution_count": 13,
     "metadata": {},
     "output_type": "execute_result"
    }
   ],
   "source": [
    "housing_df['GarageYrBlt'].head()"
   ]
  },
  {
   "cell_type": "code",
   "execution_count": 16,
   "id": "6abd144e",
   "metadata": {},
   "outputs": [
    {
     "data": {
      "text/plain": [
       "np.int64(0)"
      ]
     },
     "execution_count": 16,
     "metadata": {},
     "output_type": "execute_result"
    }
   ],
   "source": [
    "housing_df['GarageYrBlt'].isna().sum()"
   ]
  },
  {
   "cell_type": "code",
   "execution_count": 14,
   "id": "0c453c85",
   "metadata": {},
   "outputs": [],
   "source": [
    "housing_df['GarageYrBlt']=housing_df['GarageYrBlt'].fillna(housing_df['GarageYrBlt'].mean())"
   ]
  },
  {
   "cell_type": "code",
   "execution_count": 15,
   "id": "80eaa707",
   "metadata": {},
   "outputs": [
    {
     "data": {
      "text/plain": [
       "np.int64(0)"
      ]
     },
     "execution_count": 15,
     "metadata": {},
     "output_type": "execute_result"
    }
   ],
   "source": [
    "housing_df['GarageYrBlt'].isna().sum()"
   ]
  },
  {
   "cell_type": "code",
   "execution_count": 18,
   "id": "5875fa0f",
   "metadata": {},
   "outputs": [
    {
     "data": {
      "text/plain": [
       "array([2003.        , 1976.        , 2001.        , 1998.        ,\n",
       "       2000.        , 1993.        , 2004.        , 1973.        ,\n",
       "       1931.        , 1939.        , 1965.        , 2005.        ,\n",
       "       1962.        , 2006.        , 1960.        , 1991.        ,\n",
       "       1970.        , 1967.        , 1958.        , 1930.        ,\n",
       "       2002.        , 1968.        , 2007.        , 2008.        ,\n",
       "       1957.        , 1920.        , 1966.        , 1959.        ,\n",
       "       1995.        , 1954.        , 1953.        , 1978.50616389,\n",
       "       1983.        , 1977.        , 1997.        , 1985.        ,\n",
       "       1963.        , 1981.        , 1964.        , 1999.        ,\n",
       "       1935.        , 1990.        , 1945.        , 1987.        ,\n",
       "       1989.        , 1915.        , 1956.        , 1948.        ,\n",
       "       1974.        , 2009.        , 1950.        , 1961.        ,\n",
       "       1921.        , 1900.        , 1979.        , 1951.        ,\n",
       "       1969.        , 1936.        , 1975.        , 1971.        ,\n",
       "       1923.        , 1984.        , 1926.        , 1955.        ,\n",
       "       1986.        , 1988.        , 1916.        , 1932.        ,\n",
       "       1972.        , 1918.        , 1980.        , 1924.        ,\n",
       "       1996.        , 1940.        , 1949.        , 1994.        ,\n",
       "       1910.        , 1978.        , 1982.        , 1992.        ,\n",
       "       1925.        , 1941.        , 2010.        , 1927.        ,\n",
       "       1947.        , 1937.        , 1942.        , 1938.        ,\n",
       "       1952.        , 1928.        , 1922.        , 1934.        ,\n",
       "       1906.        , 1914.        , 1946.        , 1908.        ,\n",
       "       1929.        , 1933.        ])"
      ]
     },
     "execution_count": 18,
     "metadata": {},
     "output_type": "execute_result"
    }
   ],
   "source": [
    "housing_df['GarageYrBlt'].unique()"
   ]
  },
  {
   "cell_type": "code",
   "execution_count": 19,
   "id": "f4fffeab",
   "metadata": {},
   "outputs": [
    {
     "data": {
      "text/plain": [
       "GarageYrBlt\n",
       "1978.506164    81\n",
       "2005.000000    65\n",
       "2006.000000    59\n",
       "2004.000000    53\n",
       "2003.000000    50\n",
       "               ..\n",
       "1900.000000     1\n",
       "1927.000000     1\n",
       "1906.000000     1\n",
       "1908.000000     1\n",
       "1933.000000     1\n",
       "Name: count, Length: 98, dtype: int64"
      ]
     },
     "execution_count": 19,
     "metadata": {},
     "output_type": "execute_result"
    }
   ],
   "source": [
    "housing_df['GarageYrBlt'].value_counts()"
   ]
  },
  {
   "cell_type": "code",
   "execution_count": 20,
   "id": "343b70c5",
   "metadata": {},
   "outputs": [
    {
     "data": {
      "text/plain": [
       "<BarContainer object of 98 artists>"
      ]
     },
     "execution_count": 20,
     "metadata": {},
     "output_type": "execute_result"
    },
    {
     "data": {
      "image/png": "[encoded data removed]",
      "text/plain": [
       "<Figure size 640x480 with 1 Axes>"
      ]
     },
     "metadata": {},
     "output_type": "display_data"
    }
   ],
   "source": [
    "plt.bar(x=housing_df['GarageYrBlt'].unique(), height=housing_df['GarageYrBlt'].value_counts())"
   ]
  },
  {
   "cell_type": "code",
   "execution_count": 21,
   "id": "b3e019f1",
   "metadata": {},
   "outputs": [
    {
     "data": {
      "text/plain": [
       "<Axes: xlabel='GarageYrBlt', ylabel='count'>"
      ]
     },
     "execution_count": 21,
     "metadata": {},
     "output_type": "execute_result"
    },
    {
     "data": {
      "image/png": "[encoded data removed]",
      "text/plain": [
       "<Figure size 640x480 with 1 Axes>"
      ]
     },
     "metadata": {},
     "output_type": "display_data"
    }
   ],
   "source": [
    "sns.countplot(x='GarageYrBlt', data=housing_df)"
   ]
  },
  {
   "cell_type": "code",
   "execution_count": 24,
   "id": "b43a0ded",
   "metadata": {},
   "outputs": [
    {
     "data": {
      "text/plain": [
       "<matplotlib.collections.PathCollection at 0x1e70af9f310>"
      ]
     },
     "execution_count": 24,
     "metadata": {},
     "output_type": "execute_result"
    },
    {
     "data": {
      "image/png": "[encoded data removed]",
      "text/plain": [
       "<Figure size 640x480 with 1 Axes>"
      ]
     },
     "metadata": {},
     "output_type": "display_data"
    }
   ],
   "source": [
    "plt.scatter(x=housing_df['GarageYrBlt'].unique(), y=housing_df['GarageYrBlt'].value_counts())"
   ]
  },
  {
   "cell_type": "code",
   "execution_count": 26,
   "id": "96a16ff7",
   "metadata": {},
   "outputs": [
    {
     "data": {
      "text/plain": [
       "Alley            1369\n",
       "MasVnrType        872\n",
       "Electrical          1\n",
       "MSSubClass          0\n",
       "MSZoning            0\n",
       "LandContour         0\n",
       "Utilities           0\n",
       "LotConfig           0\n",
       "LandSlope           0\n",
       "Neighborhood        0\n",
       "Condition1          0\n",
       "Street              0\n",
       "LotShape            0\n",
       "BldgType            0\n",
       "Condition2          0\n",
       "RoofMatl            0\n",
       "HouseStyle          0\n",
       "Exterior1st         0\n",
       "Exterior2nd         0\n",
       "ExterQual           0\n",
       "RoofStyle           0\n",
       "Foundation          0\n",
       "BsmtQual            0\n",
       "BsmtCond            0\n",
       "BsmtExposure        0\n",
       "BsmtFinType1        0\n",
       "BsmtFinType2        0\n",
       "Heating             0\n",
       "ExterCond           0\n",
       "HeatingQC           0\n",
       "CentralAir          0\n",
       "KitchenQual         0\n",
       "Functional          0\n",
       "FireplaceQu         0\n",
       "GarageType          0\n",
       "GarageFinish        0\n",
       "GarageQual          0\n",
       "GarageCond          0\n",
       "PavedDrive          0\n",
       "PoolQC              0\n",
       "Fence               0\n",
       "MiscFeature         0\n",
       "MoSold              0\n",
       "SaleType            0\n",
       "SaleCondition       0\n",
       "dtype: int64"
      ]
     },
     "execution_count": 26,
     "metadata": {},
     "output_type": "execute_result"
    }
   ],
   "source": [
    "cat_col.isna().sum().sort_values(ascending=False)"
   ]
  },
  {
   "cell_type": "code",
   "execution_count": 27,
   "id": "08acf4bf",
   "metadata": {},
   "outputs": [
    {
     "data": {
      "text/plain": [
       "0    BrkFace\n",
       "1        NaN\n",
       "2    BrkFace\n",
       "3        NaN\n",
       "4    BrkFace\n",
       "Name: MasVnrType, dtype: object"
      ]
     },
     "execution_count": 27,
     "metadata": {},
     "output_type": "execute_result"
    }
   ],
   "source": [
    "housing_df['MasVnrType'].head()"
   ]
  },
  {
   "cell_type": "code",
   "execution_count": 28,
   "id": "d243870c",
   "metadata": {},
   "outputs": [],
   "source": [
    "housing_df['MasVnrType']=housing_df['MasVnrType'].fillna(housing_df['MasVnrType'].mode())"
   ]
  },
  {
   "cell_type": "code",
   "execution_count": 29,
   "id": "b47fd1ed",
   "metadata": {},
   "outputs": [
    {
     "data": {
      "text/plain": [
       "np.int64(872)"
      ]
     },
     "execution_count": 29,
     "metadata": {},
     "output_type": "execute_result"
    }
   ],
   "source": [
    "housing_df['MasVnrType'].isna().sum()"
   ]
  },
  {
   "cell_type": "code",
   "execution_count": 30,
   "id": "1d564da8",
   "metadata": {},
   "outputs": [
    {
     "data": {
      "text/plain": [
       "array([208500, 181500, 223500, 140000, 250000, 143000, 307000, 200000,\n",
       "       129900, 118000, 129500, 345000, 144000, 279500, 157000, 132000,\n",
       "       149000,  90000, 159000, 139000, 325300, 139400, 230000, 154000,\n",
       "       256300, 134800, 306000, 207500,  68500,  40000, 149350, 179900,\n",
       "       165500, 277500, 309000, 145000, 153000, 109000,  82000, 160000,\n",
       "       170000, 130250, 141000, 319900, 239686, 249700, 113000, 127000,\n",
       "       177000, 114500, 110000, 385000, 130000, 180500, 172500, 196500,\n",
       "       438780, 124900, 158000, 101000, 202500, 219500, 317000, 180000,\n",
       "       226000,  80000, 225000, 244000, 185000, 144900, 107400,  91000,\n",
       "       135750, 136500, 193500, 153500, 245000, 126500, 168500, 260000,\n",
       "       174000, 164500,  85000, 123600, 109900,  98600, 163500, 133900,\n",
       "       204750, 214000,  94750,  83000, 128950, 205000, 178000, 118964,\n",
       "       198900, 169500, 100000, 115000, 190000, 136900, 383970, 217000,\n",
       "       259500, 176000, 155000, 320000, 163990, 136000, 153900, 181000,\n",
       "        84500, 128000,  87000, 150000, 150750, 220000, 171000, 231500,\n",
       "       166000, 204000, 125000, 105000, 222500, 122000, 372402, 235000,\n",
       "        79000, 109500, 269500, 254900, 162500, 412500, 103200, 152000,\n",
       "       127500, 325624, 183500, 228000, 128500, 215000, 239000, 163000,\n",
       "       184000, 243000, 211000, 501837, 200100, 120000, 475000, 173000,\n",
       "       135000, 153337, 286000, 315000, 192000, 148500, 311872, 104000,\n",
       "       274900, 171500, 112000, 143900, 277000,  98000, 186000, 252678,\n",
       "       156000, 161750, 134450, 210000, 107000, 311500, 167240, 204900,\n",
       "        97000, 386250, 290000, 106000, 192500, 148000, 403000,  94500,\n",
       "       128200, 216500,  89500, 185500, 194500, 318000, 262500, 110500,\n",
       "       241500, 137000,  76500, 276000, 151000,  73000, 175500, 179500,\n",
       "       120500, 266000, 124500, 201000, 415298, 228500, 244600, 179200,\n",
       "       164700,  88000, 153575, 233230, 135900, 131000, 167000, 142500,\n",
       "       175000, 158500, 267000, 149900, 295000, 305900,  82500, 360000,\n",
       "       165600, 119900, 375000, 188500, 270000, 187500, 342643, 354000,\n",
       "       301000, 126175, 242000, 324000, 145250, 214500,  78000, 119000,\n",
       "       284000, 207000, 228950, 377426, 202900,  87500, 140200, 151500,\n",
       "       157500, 437154, 318061,  95000, 105900, 177500, 134000, 280000,\n",
       "       198500, 147000, 165000, 162000, 172400, 134432, 123000,  61000,\n",
       "       340000, 394432, 179000, 187750, 213500,  76000, 240000,  81000,\n",
       "       191000, 426000, 106500, 129000,  67000, 241000, 245500, 164990,\n",
       "       108000, 258000, 168000, 339750,  60000, 222000, 181134, 149500,\n",
       "       126000, 142000, 206300, 275000, 109008, 195400,  85400,  79900,\n",
       "       122500, 212000, 116000,  90350, 555000, 162900, 199900, 119500,\n",
       "       188000, 256000, 161000, 263435,  62383, 188700, 124000, 178740,\n",
       "       146500, 187000, 440000, 251000, 132500, 208900, 380000, 297000,\n",
       "        89471, 326000, 374000, 164000,  86000, 133000, 172785,  91300,\n",
       "        34900, 430000, 226700, 289000, 208300, 164900, 202665,  96500,\n",
       "       402861, 265000, 234000, 106250, 184750, 315750, 446261, 200624,\n",
       "       107500,  39300, 111250, 272000, 248000, 213250, 179665, 229000,\n",
       "       263000, 112500, 255500, 121500, 268000, 325000, 316600, 135960,\n",
       "       142600, 224500, 118500, 146000, 131500, 181900, 253293, 369900,\n",
       "        79500, 185900, 451950, 138000, 319000, 114504, 194201, 217500,\n",
       "       221000, 359100, 313000, 261500,  75500, 137500, 183200, 105500,\n",
       "       314813, 305000, 165150, 139900, 209500,  93000, 264561, 274000,\n",
       "       370878, 143250,  98300, 205950, 350000, 145500,  97500, 197900,\n",
       "       402000, 423000, 230500, 173500, 103600, 257500, 372500, 159434,\n",
       "       285000, 227875, 148800, 392000, 194700, 755000, 335000, 108480,\n",
       "       141500,  89000, 123500, 138500, 196000, 312500, 361919, 213000,\n",
       "        55000, 302000, 254000, 179540,  52000, 102776, 189000, 130500,\n",
       "       159500, 341000, 103000, 236500, 131400,  93500, 239900, 299800,\n",
       "       236000, 265979, 260400, 275500, 158900, 179400, 215200, 337000,\n",
       "       264132, 216837, 538000, 134900, 102000, 395000, 221500, 175900,\n",
       "       187100, 161500, 233000, 107900, 160200, 146800, 269790, 143500,\n",
       "       485000, 582933, 227680, 135500, 159950, 144500,  55993, 157900,\n",
       "       224900, 271000, 224000, 183000, 139500, 232600, 147400, 237000,\n",
       "       139950, 174900, 133500, 189950, 250580, 248900, 169000, 200500,\n",
       "        66500, 303477, 132250, 328900, 122900, 154500, 118858, 142953,\n",
       "       611657, 125500, 255000, 154300, 173733,  75000,  35311, 238000,\n",
       "       176500, 145900, 169990, 193000, 117500, 184900, 253000, 239799,\n",
       "       244400, 150900, 197500, 172000, 116500, 214900, 178900,  37900,\n",
       "        99500, 182000, 167500,  85500, 178400, 336000, 159895, 255900,\n",
       "       117000, 395192, 195000, 197000, 348000, 173900, 337500, 121600,\n",
       "       206000, 232000, 136905, 119200, 227000, 203000, 213490, 194000,\n",
       "       287000, 293077, 310000, 119750,  84000, 315500, 262280, 278000,\n",
       "       139600, 556581,  84900, 176485, 200141, 185850, 328000, 167900,\n",
       "       151400,  91500, 138800, 155900,  83500, 252000,  92900, 176432,\n",
       "       274725, 134500, 184100, 133700, 118400, 212900, 163900, 259000,\n",
       "       239500,  94000, 424870, 174500, 116900, 201800, 218000, 235128,\n",
       "       108959, 233170, 245350, 625000, 171900, 154900, 392500, 745000,\n",
       "       186700, 104900, 262000, 219210, 116050, 271900, 229456,  80500,\n",
       "       137900, 367294, 101800, 138887, 265900, 248328, 465000, 186500,\n",
       "       169900, 171750, 294000, 165400, 301500,  99900, 128900, 183900,\n",
       "       378500, 381000, 185750,  68400, 150500, 281000, 333168, 206900,\n",
       "       295493, 111000, 156500,  72500,  52500, 155835, 108500, 283463,\n",
       "       410000, 156932, 144152, 216000, 274300, 466500,  58500, 237500,\n",
       "       377500, 246578, 281213, 137450, 193879, 282922, 257000, 223000,\n",
       "       274970, 182900, 192140, 143750,  64500, 394617, 149700, 149300,\n",
       "       121000, 179600,  92000, 287090, 266500, 142125, 147500])"
      ]
     },
     "execution_count": 30,
     "metadata": {},
     "output_type": "execute_result"
    }
   ],
   "source": [
    "housing_df['SalePrice'].unique()"
   ]
  },
  {
   "cell_type": "code",
   "execution_count": 31,
   "id": "ea8f1c51",
   "metadata": {},
   "outputs": [
    {
     "data": {
      "text/plain": [
       "0    208500\n",
       "1    181500\n",
       "2    223500\n",
       "3    140000\n",
       "4    250000\n",
       "Name: SalePrice, dtype: int64"
      ]
     },
     "execution_count": 31,
     "metadata": {},
     "output_type": "execute_result"
    }
   ],
   "source": [
    "housing_df['SalePrice'].head()"
   ]
  },
  {
   "cell_type": "code",
   "execution_count": 33,
   "id": "08fe97fb",
   "metadata": {},
   "outputs": [
    {
     "data": {
      "text/plain": [
       "np.float64(0.2638433538714056)"
      ]
     },
     "execution_count": 33,
     "metadata": {},
     "output_type": "execute_result"
    }
   ],
   "source": [
    "housing_df['LotArea'].corr(housing_df['SalePrice'])"
   ]
  },
  {
   "cell_type": "code",
   "execution_count": 35,
   "id": "5576a4ee",
   "metadata": {},
   "outputs": [
    {
     "data": {
      "text/plain": [
       "count      1460.000000\n",
       "mean     180921.195890\n",
       "std       79442.502883\n",
       "min       34900.000000\n",
       "25%      129975.000000\n",
       "50%      163000.000000\n",
       "75%      214000.000000\n",
       "max      755000.000000\n",
       "Name: SalePrice, dtype: float64"
      ]
     },
     "execution_count": 35,
     "metadata": {},
     "output_type": "execute_result"
    }
   ],
   "source": [
    "\n",
    "housing_df['SalePrice'].describe()"
   ]
  },
  {
   "cell_type": "code",
   "execution_count": null,
   "id": "abae5362",
   "metadata": {},
   "outputs": [],
   "source": [
    "price_bins=[0,4000, 250000, 2500000,755000]\n",
    "price_class=[['Class1','Class2','Class3','Class4']]"
   ]
  }
 ],
 "metadata": {
  "kernelspec": {
   "display_name": "venv",
   "language": "python",
   "name": "python3"
  },
  "language_info": {
   "codemirror_mode": {
    "name": "ipython",
    "version": 3
   },
   "file_extension": ".py",
   "mimetype": "text/x-python",
   "name": "python",
   "nbconvert_exporter": "python",
   "pygments_lexer": "ipython3",
   "version": "3.11.5"
  }
 },
 "nbformat": 4,
 "nbformat_minor": 5
}
