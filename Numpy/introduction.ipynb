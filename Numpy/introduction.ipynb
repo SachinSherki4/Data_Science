{
 "cells": [
  {
   "cell_type": "markdown",
   "id": "7cd2c60c",
   "metadata": {},
   "source": [
    "### All attribute available in Numpy library"
   ]
  },
  {
   "cell_type": "markdown",
   "id": "4daf511a",
   "metadata": {},
   "source": [
    "1. Creating - structure data, inputs\n",
    "    1. np.array()\n",
    "    2. np.arange()\n",
    "    3. np.zeros()\n",
    "    4. np.ones()"
   ]
  },
  {
   "cell_type": "markdown",
   "id": "c7f28cf0",
   "metadata": {},
   "source": [
    "2. Shape Manipulation - reahape images, aligning datasets\n",
    "    1. np.reshape()\n",
    "    2. np.flatten()\n",
    "    3. np.transpose()"
   ]
  },
  {
   "cell_type": "markdown",
   "id": "f11f1839",
   "metadata": {},
   "source": [
    "3. Statistics - helps to summerize performance metrixs()\n",
    "    1. np.mean()\n",
    "    2. np.median()\n",
    "    3. np.std()\n",
    "    4. np.var()"
   ]
  },
  {
   "cell_type": "markdown",
   "id": "c5ddf25f",
   "metadata": {},
   "source": [
    "4. Aggregating and Shifts - \n",
    "    1. np.sum()\n",
    "    2. np.diff()\n",
    "    3. np.cumsum()"
   ]
  },
  {
   "cell_type": "markdown",
   "id": "78170de1",
   "metadata": {},
   "source": [
    "5. Simulation - \n",
    "    1. np.random.rand() \n",
    "    2. np.random.randint()\n",
    "    3. np.random.choice()"
   ]
  },
  {
   "cell_type": "markdown",
   "id": "3e4ee1f1",
   "metadata": {},
   "source": [
    "6. Missing Data Handling\n",
    "    1. np.isnan\n",
    "    2. np.nan_to_num()"
   ]
  },
  {
   "cell_type": "markdown",
   "id": "1d71e745",
   "metadata": {},
   "source": [
    "7. Conditional logic & Frequency\n",
    "    1. np.where()\n",
    "    2. np.logical_and()\n",
    "    3. np.unique()\n",
    "    4. np.argmax()"
   ]
  },
  {
   "cell_type": "markdown",
   "id": "1c4d8130",
   "metadata": {},
   "source": [
    "8. Matrix Operation\n",
    "    1. np.dot()\n",
    "    2. np.matmul()"
   ]
  },
  {
   "cell_type": "markdown",
   "id": "a59ec240",
   "metadata": {},
   "source": []
  }
 ],
 "metadata": {
  "language_info": {
   "name": "python"
  }
 },
 "nbformat": 4,
 "nbformat_minor": 5
}
