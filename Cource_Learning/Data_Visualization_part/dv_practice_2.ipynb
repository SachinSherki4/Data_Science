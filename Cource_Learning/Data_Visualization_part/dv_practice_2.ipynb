{
 "cells": [
  {
   "cell_type": "code",
   "execution_count": 1,
   "id": "bb1f7e8a",
   "metadata": {},
   "outputs": [],
   "source": [
    "import numpy as np \n",
    "import pandas as pd\n",
    "import matplotlib.pyplot as plt \n",
    "import seaborn as sns"
   ]
  },
  {
   "cell_type": "markdown",
   "id": "537d0513",
   "metadata": {},
   "source": [
    "### BOX Plot - Finding Outliers"
   ]
  },
  {
   "cell_type": "code",
   "execution_count": null,
   "id": "901f89f7",
   "metadata": {},
   "outputs": [],
   "source": [
    "housing_data=pd.read_csv('../../Data_Files/housing_data.csv')\n",
    "housing_data.shape"
   ]
  },
  {
   "cell_type": "code",
   "execution_count": null,
   "id": "8211d888",
   "metadata": {},
   "outputs": [],
   "source": [
    "housing_data['House_type']=np.where(housing_data['YearBuilt'] > 2000 , 'New','Old')\n",
    "housing_data['House_type'].value_counts()"
   ]
  },
  {
   "cell_type": "code",
   "execution_count": null,
   "id": "cbf93431",
   "metadata": {},
   "outputs": [],
   "source": [
    "sns.countplot(x='House_type',data=housing_data, palette='bright')"
   ]
  },
  {
   "cell_type": "markdown",
   "id": "bf47c43b",
   "metadata": {},
   "source": [
    "1. To find outlier we need to identify the percentage of data where almost data cover"
   ]
  },
  {
   "cell_type": "code",
   "execution_count": null,
   "id": "99f2ceb8",
   "metadata": {},
   "outputs": [],
   "source": [
    "sns.boxplot(x=housing_data['LotArea'])"
   ]
  },
  {
   "cell_type": "code",
   "execution_count": null,
   "id": "254cac53",
   "metadata": {},
   "outputs": [],
   "source": [
    "housing_data['LotArea'].describe()"
   ]
  },
  {
   "cell_type": "code",
   "execution_count": 8,
   "id": "b27ec0e7",
   "metadata": {},
   "outputs": [
    {
     "data": {
      "text/plain": [
       "np.float64(37567.64000000021)"
      ]
     },
     "execution_count": 8,
     "metadata": {},
     "output_type": "execute_result"
    }
   ],
   "source": [
    "## find out the distribution of box plot data\n",
    "housing_data['LotArea'].quantile(0.99)\n",
    "# 99% - 37567.64000000021 - we can see 99% data cover till 38K which is less than even 1 Lakh so we can use this as max area of distribution"
   ]
  },
  {
   "cell_type": "markdown",
   "id": "b53ec870",
   "metadata": {},
   "source": [
    "### redifine dataframe by removing all data above 99% and take remaining as datarame"
   ]
  },
  {
   "cell_type": "code",
   "execution_count": 9,
   "id": "acd536bc",
   "metadata": {},
   "outputs": [
    {
     "data": {
      "text/plain": [
       "(1445, 82)"
      ]
     },
     "execution_count": 9,
     "metadata": {},
     "output_type": "execute_result"
    }
   ],
   "source": [
    "sub_housing_data=housing_data.loc[housing_data['LotArea'] < housing_data['LotArea'].quantile(0.99)]\n",
    "sub_housing_data.shape"
   ]
  },
  {
   "cell_type": "code",
   "execution_count": 10,
   "id": "d146c2fd",
   "metadata": {},
   "outputs": [],
   "source": [
    "# we can see after removing outlier we left with 1445 entries out of 1460"
   ]
  },
  {
   "cell_type": "code",
   "execution_count": null,
   "id": "c54c4d26",
   "metadata": {},
   "outputs": [],
   "source": [
    "# box plot after removing outliers\n",
    "sns.boxplot(x=sub_housing_data['LotArea'])"
   ]
  },
  {
   "cell_type": "markdown",
   "id": "7be7a21f",
   "metadata": {},
   "source": [
    "### Regression chart - to show relation between two parameters\n",
    "1. can see the relation is positive and fent area represent the area of distribution\n",
    "2. Dark blue line represent the relation upword"
   ]
  },
  {
   "cell_type": "code",
   "execution_count": null,
   "id": "1b7a0d63",
   "metadata": {},
   "outputs": [],
   "source": [
    "sns.regplot(x='LotArea',y='SalePrice',data=housing_data)"
   ]
  },
  {
   "cell_type": "code",
   "execution_count": null,
   "id": "824d2586",
   "metadata": {},
   "outputs": [],
   "source": [
    "sns.regplot(x='LotArea',y='SalePrice',data=sub_housing_data)"
   ]
  },
  {
   "cell_type": "markdown",
   "id": "345f78d4",
   "metadata": {},
   "source": [
    "### Heatmap chart - to represent magnitude of relation between different variable\n",
    "1. Work on Numerical variable"
   ]
  },
  {
   "cell_type": "code",
   "execution_count": null,
   "id": "306c6464",
   "metadata": {},
   "outputs": [],
   "source": [
    "num_data=housing_data.select_dtypes(['int64','float64'])\n",
    "num_data.columns"
   ]
  },
  {
   "cell_type": "markdown",
   "id": "1e9e9dea",
   "metadata": {},
   "source": [
    "### create subset of numerical data"
   ]
  },
  {
   "cell_type": "code",
   "execution_count": 18,
   "id": "1befe81f",
   "metadata": {},
   "outputs": [
    {
     "data": {
      "text/html": [
       "<div>\n",
       "<style scoped>\n",
       "    .dataframe tbody tr th:only-of-type {\n",
       "        vertical-align: middle;\n",
       "    }\n",
       "\n",
       "    .dataframe tbody tr th {\n",
       "        vertical-align: top;\n",
       "    }\n",
       "\n",
       "    .dataframe thead th {\n",
       "        text-align: right;\n",
       "    }\n",
       "</style>\n",
       "<table border=\"1\" class=\"dataframe\">\n",
       "  <thead>\n",
       "    <tr style=\"text-align: right;\">\n",
       "      <th></th>\n",
       "      <th>LotArea</th>\n",
       "      <th>1stFlrSF</th>\n",
       "      <th>TotalBsmtSF</th>\n",
       "      <th>SalePrice</th>\n",
       "    </tr>\n",
       "  </thead>\n",
       "  <tbody>\n",
       "    <tr>\n",
       "      <th>0</th>\n",
       "      <td>8450</td>\n",
       "      <td>856</td>\n",
       "      <td>856</td>\n",
       "      <td>208500</td>\n",
       "    </tr>\n",
       "    <tr>\n",
       "      <th>1</th>\n",
       "      <td>9600</td>\n",
       "      <td>1262</td>\n",
       "      <td>1262</td>\n",
       "      <td>181500</td>\n",
       "    </tr>\n",
       "    <tr>\n",
       "      <th>2</th>\n",
       "      <td>11250</td>\n",
       "      <td>920</td>\n",
       "      <td>920</td>\n",
       "      <td>223500</td>\n",
       "    </tr>\n",
       "    <tr>\n",
       "      <th>3</th>\n",
       "      <td>9550</td>\n",
       "      <td>961</td>\n",
       "      <td>756</td>\n",
       "      <td>140000</td>\n",
       "    </tr>\n",
       "    <tr>\n",
       "      <th>4</th>\n",
       "      <td>14260</td>\n",
       "      <td>1145</td>\n",
       "      <td>1145</td>\n",
       "      <td>250000</td>\n",
       "    </tr>\n",
       "    <tr>\n",
       "      <th>...</th>\n",
       "      <td>...</td>\n",
       "      <td>...</td>\n",
       "      <td>...</td>\n",
       "      <td>...</td>\n",
       "    </tr>\n",
       "    <tr>\n",
       "      <th>1455</th>\n",
       "      <td>7917</td>\n",
       "      <td>953</td>\n",
       "      <td>953</td>\n",
       "      <td>175000</td>\n",
       "    </tr>\n",
       "    <tr>\n",
       "      <th>1456</th>\n",
       "      <td>13175</td>\n",
       "      <td>2073</td>\n",
       "      <td>1542</td>\n",
       "      <td>210000</td>\n",
       "    </tr>\n",
       "    <tr>\n",
       "      <th>1457</th>\n",
       "      <td>9042</td>\n",
       "      <td>1188</td>\n",
       "      <td>1152</td>\n",
       "      <td>266500</td>\n",
       "    </tr>\n",
       "    <tr>\n",
       "      <th>1458</th>\n",
       "      <td>9717</td>\n",
       "      <td>1078</td>\n",
       "      <td>1078</td>\n",
       "      <td>142125</td>\n",
       "    </tr>\n",
       "    <tr>\n",
       "      <th>1459</th>\n",
       "      <td>9937</td>\n",
       "      <td>1256</td>\n",
       "      <td>1256</td>\n",
       "      <td>147500</td>\n",
       "    </tr>\n",
       "  </tbody>\n",
       "</table>\n",
       "<p>1460 rows × 4 columns</p>\n",
       "</div>"
      ],
      "text/plain": [
       "      LotArea  1stFlrSF  TotalBsmtSF  SalePrice\n",
       "0        8450       856          856     208500\n",
       "1        9600      1262         1262     181500\n",
       "2       11250       920          920     223500\n",
       "3        9550       961          756     140000\n",
       "4       14260      1145         1145     250000\n",
       "...       ...       ...          ...        ...\n",
       "1455     7917       953          953     175000\n",
       "1456    13175      2073         1542     210000\n",
       "1457     9042      1188         1152     266500\n",
       "1458     9717      1078         1078     142125\n",
       "1459     9937      1256         1256     147500\n",
       "\n",
       "[1460 rows x 4 columns]"
      ]
     },
     "execution_count": 18,
     "metadata": {},
     "output_type": "execute_result"
    }
   ],
   "source": [
    "housing_df_reduce=housing_data[['LotArea','1stFlrSF','TotalBsmtSF','SalePrice']]\n",
    "housing_df_reduce"
   ]
  },
  {
   "cell_type": "markdown",
   "id": "db187bef",
   "metadata": {},
   "source": [
    "### heatmap() will show this relation is color code to understand better with color representation\n",
    "1. appllicable for Numerical variables\n",
    "2.  Use case : 1. while developing the model, most highly relatable data will be usefull as compare to the ligh weight data\n",
    "3. Which data is most contributting to data\n",
    "4. Darker shade - Lighter shaded - low relatable\n",
    "5. Lighter Shade - Highly relatable"
   ]
  },
  {
   "cell_type": "code",
   "execution_count": 19,
   "id": "7b37c5f1",
   "metadata": {},
   "outputs": [
    {
     "data": {
      "text/plain": [
       "<Axes: >"
      ]
     },
     "execution_count": 19,
     "metadata": {},
     "output_type": "execute_result"
    },
    {
     "data": {
      "image/png": "[encoded data removed]",
      "text/plain": [
       "<Figure size 640x480 with 2 Axes>"
      ]
     },
     "metadata": {},
     "output_type": "display_data"
    }
   ],
   "source": [
    "sns.heatmap(housing_df_reduce.corr(), annot=True)"
   ]
  },
  {
   "cell_type": "markdown",
   "id": "9241e441",
   "metadata": {},
   "source": [
    "### Feature Engineering - converting numerical data to categoriical data"
   ]
  },
  {
   "cell_type": "code",
   "execution_count": 20,
   "id": "110af5c5",
   "metadata": {},
   "outputs": [
    {
     "data": {
      "text/plain": [
       "count      1460.000000\n",
       "mean     180921.195890\n",
       "std       79442.502883\n",
       "min       34900.000000\n",
       "25%      129975.000000\n",
       "50%      163000.000000\n",
       "75%      214000.000000\n",
       "max      755000.000000\n",
       "Name: SalePrice, dtype: float64"
      ]
     },
     "execution_count": 20,
     "metadata": {},
     "output_type": "execute_result"
    }
   ],
   "source": [
    "housing_data['SalePrice'].describe()"
   ]
  },
  {
   "cell_type": "code",
   "execution_count": 22,
   "id": "5430263c",
   "metadata": {},
   "outputs": [],
   "source": [
    "# We can use pandas cut() with bins and labels to create new categories based on existing numerical values\n",
    "# bins = will create continuous range with provided range of data\n",
    "# labes - will assign labels based on provided bins\n",
    "\n",
    "# first create a new column to show the new categorical columns\n",
    "price_bins=[0,45000,200000, 400000, 755000]\n",
    "price_lables= ['Class1','Class2','Class3','Class4']\n",
    "housing_data['Price Range']= pd.cut(housing_data['SalePrice'], bins=price_bins, labels=price_lables)"
   ]
  },
  {
   "cell_type": "code",
   "execution_count": 23,
   "id": "54e0a104",
   "metadata": {},
   "outputs": [
    {
     "data": {
      "text/plain": [
       "Price Range\n",
       "Class2    1028\n",
       "Class3     399\n",
       "Class4      28\n",
       "Class1       5\n",
       "Name: count, dtype: int64"
      ]
     },
     "execution_count": 23,
     "metadata": {},
     "output_type": "execute_result"
    }
   ],
   "source": [
    "housing_data['Price Range'].value_counts()"
   ]
  },
  {
   "cell_type": "code",
   "execution_count": null,
   "id": "73b57e1a",
   "metadata": {},
   "outputs": [],
   "source": [
    "sns.countplot(x='Price Range', data=housing_data, palette='bright')"
   ]
  },
  {
   "cell_type": "markdown",
   "id": "21703db1",
   "metadata": {},
   "source": [
    "### Pie Chart - representing data in percentage format"
   ]
  },
  {
   "cell_type": "code",
   "execution_count": 27,
   "id": "e59736d7",
   "metadata": {},
   "outputs": [
    {
     "data": {
      "text/plain": [
       "([<matplotlib.patches.Wedge at 0x2472fe61c40>,\n",
       "  <matplotlib.patches.Wedge at 0x2472fe62510>,\n",
       "  <matplotlib.patches.Wedge at 0x2472ff86270>,\n",
       "  <matplotlib.patches.Wedge at 0x2472ff86870>],\n",
       " [Text(-0.6579991205657679, 0.8814971113592353, 'Class2'),\n",
       "  Text(0.5937998674489147, -0.9259598897455826, 'Class3'),\n",
       "  Text(1.096324843379146, -0.0898434070463218, 'Class4'),\n",
       "  Text(1.0999363495824157, -0.011833294862789499, 'Class1')])"
      ]
     },
     "execution_count": 27,
     "metadata": {},
     "output_type": "execute_result"
    },
    {
     "data": {
      "image/png": "[encoded data removed]",
      "text/plain": [
       "<Figure size 640x480 with 1 Axes>"
      ]
     },
     "metadata": {},
     "output_type": "display_data"
    }
   ],
   "source": [
    "price_range= housing_data['Price Range'].value_counts()\n",
    "plt.pie(price_range, labels=price_range.index)"
   ]
  },
  {
   "cell_type": "code",
   "execution_count": null,
   "id": "671a9ae8",
   "metadata": {},
   "outputs": [],
   "source": []
  }
 ],
 "metadata": {
  "kernelspec": {
   "display_name": "venv",
   "language": "python",
   "name": "python3"
  },
  "language_info": {
   "codemirror_mode": {
    "name": "ipython",
    "version": 3
   },
   "file_extension": ".py",
   "mimetype": "text/x-python",
   "name": "python",
   "nbconvert_exporter": "python",
   "pygments_lexer": "ipython3",
   "version": "3.12.2"
  }
 },
 "nbformat": 4,
 "nbformat_minor": 5
}
